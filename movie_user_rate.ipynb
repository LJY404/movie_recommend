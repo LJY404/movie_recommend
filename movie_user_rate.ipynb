{
 "cells": [
  {
   "cell_type": "code",
   "execution_count": 31,
   "metadata": {},
   "outputs": [],
   "source": [
    "#!/usr/bin/env Python\n",
    "#coding=utf-8\n",
    "import pandas as pd\n",
    "import smtplib\n",
    "from email.mime.text import MIMEText\n",
    "from email.MIMEMultipart import MIMEMultipart\n",
    "import string\n",
    "from sklearn import preprocessing\n",
    "import numpy as np\n",
    "import sys\n",
    "import os\n",
    "import codecs\n",
    "import math\n",
    "import json\n",
    "import urllib\n",
    "import datetime\n",
    "import time\n",
    "import re\n",
    "import string\n",
    "import pandas.io.sql as psql\n",
    "import xlrd\n",
    "from openpyxl import load_workbook\n",
    "import scipy as sp\n",
    "import MySQLdb\n",
    "import psycopg2\n",
    "import pyhs2\n",
    "from sqlalchemy import create_engine\n",
    "from datetime import timedelta\n",
    "import calendar\n",
    "import datetime\n",
    "\n",
    "reload(sys)\n",
    "sys.setdefaultencoding('utf8')"
   ]
  },
  {
   "cell_type": "code",
   "execution_count": 32,
   "metadata": {},
   "outputs": [],
   "source": [
    "df_movie = pd.read_csv('/database/liujy/movie_recommend/movies.csv')\n",
    "df_rating = pd.read_csv('/database/liujy/movie_recommend/ratings.csv')\n",
    "df_users = pd.read_csv('/database/liujy/movie_recommend/users.csv')"
   ]
  },
  {
   "cell_type": "code",
   "execution_count": 33,
   "metadata": {},
   "outputs": [],
   "source": [
    "df_users.columns=['UserID','Gender','Age','JobID','Zip-code']"
   ]
  },
  {
   "cell_type": "code",
   "execution_count": 4,
   "metadata": {},
   "outputs": [],
   "source": [
    "#df_rating['date']=pd.to_datetime(df_rating['Timestamp'], unit='s').dt.strftime('%Y-%m-%d %H:%M')"
   ]
  },
  {
   "cell_type": "code",
   "execution_count": 37,
   "metadata": {},
   "outputs": [],
   "source": [
    "#df_link=pd.merge(df_movie,df_rating,how='inner',on='MovieID') #电影及其评分\n",
    "#df_link.Title.value_counts()[:20]#评分次数最多的top20"
   ]
  },
  {
   "cell_type": "code",
   "execution_count": 7,
   "metadata": {},
   "outputs": [],
   "source": [
    "#df_link1=pd.merge(df_link,df_users,how='inner',on='UserID')"
   ]
  },
  {
   "cell_type": "code",
   "execution_count": 10,
   "metadata": {},
   "outputs": [],
   "source": [
    "#df_link1[['UserID','Gender']].drop_duplicates()\n",
    "#df_link2=df_link1.groupby([\"Gender\"],as_index=False).agg({\"UserID\":\"count\"})"
   ]
  },
  {
   "cell_type": "code",
   "execution_count": 35,
   "metadata": {},
   "outputs": [],
   "source": [
    "\n",
    "df_movie['Title']=df_movie['Title'].astype('str')\n",
    "#df_users.filter(regex='UserID|Gender|Age|JobID')\n",
    "#df_users.values"
   ]
  },
  {
   "cell_type": "code",
   "execution_count": 36,
   "metadata": {},
   "outputs": [],
   "source": [
    "#用户数据\n",
    "df_users = df_users.filter(regex='UserID|Gender|Age|JobID')\n",
    "users_orig = df_users.values\n",
    "#处理用户数据的年龄和性别\n",
    "gender_map = {'F':0, 'M':1}\n",
    "df_users['Gender'] = df_users['Gender'].map(gender_map)\n",
    "\n",
    "age_map = {val:ii for ii,val in enumerate(set(df_users['Age']))}\n",
    "df_users['Age'] = df_users['Age'].map(age_map)\n",
    "#读取Movie数据集\n",
    "movies_orig = df_movie.values\n",
    "#将Title中的年份去掉\n",
    "pattern = re.compile(r'^(.*?)\\(?(\\d*)\\)?$')\n",
    "\n",
    "title_map = {val:pattern.match(val).group(1) for ii,val in enumerate(set(df_movie['Title']))}\n",
    "df_movie['Title'] = df_movie['Title'].map(title_map)\n",
    "\n",
    "\n",
    "#电影Title转数字字典\n",
    "title_set = set()\n",
    "for val in df_movie['Title'].str.split():\n",
    "    title_set.update(val)\n",
    "\n",
    "title_set.add('<PAD>')\n",
    "title2int = {val:ii for ii, val in enumerate(title_set)}\n",
    "\n",
    "\n",
    "#将电影Title转成等长数字列表，长度是15\n",
    "title_count = 15\n",
    "title_map = {val:[title2int[row] for row in val.split()] for ii,val in enumerate(set(df_movie['Title']))}\n",
    "\n",
    "for key in title_map:\n",
    "    for cnt in range(title_count - len(title_map[key])):\n",
    "        title_map[key].insert(len(title_map[key]) + cnt,title2int['<PAD>'])\n",
    "\n",
    "df_movie['Title'] = df_movie['Title'].map(title_map)\n"
   ]
  },
  {
   "cell_type": "code",
   "execution_count": 37,
   "metadata": {},
   "outputs": [],
   "source": [
    "#电影类型转数字字典\n",
    "df_movie['Genres']=df_movie['Genres'].astype('str')\n",
    "genres_set = set()\n",
    "for val in df_movie['Genres'].str.split('|'):\n",
    "    genres_set.update(val)\n",
    "\n",
    "genres_set.add('<PAD>')\n",
    "genres2int = {val:ii for ii, val in enumerate(genres_set)}\n",
    "\n",
    "#将电影类型转成等长数字列表，长度是18\n",
    "genres_map = {val:[genres2int[row] for row in val.split('|')] for ii,val in enumerate(set(df_movie['Genres']))}\n",
    "\n",
    "for key in genres_map:\n",
    "    for cnt in range(max(genres2int.values()) - len(genres_map[key])):\n",
    "        genres_map[key].insert(len(genres_map[key]) + cnt,genres2int['<PAD>'])\n",
    "\n",
    "df_movie['Genres'] = df_movie['Genres'].map(genres_map)"
   ]
  },
  {
   "cell_type": "code",
   "execution_count": 38,
   "metadata": {},
   "outputs": [],
   "source": [
    "#合并三个表\n",
    "data = pd.merge(pd.merge(df_rating, df_users), df_movie)"
   ]
  },
  {
   "cell_type": "code",
   "execution_count": 39,
   "metadata": {},
   "outputs": [
    {
     "data": {
      "text/html": [
       "<div>\n",
       "<style scoped>\n",
       "    .dataframe tbody tr th:only-of-type {\n",
       "        vertical-align: middle;\n",
       "    }\n",
       "\n",
       "    .dataframe tbody tr th {\n",
       "        vertical-align: top;\n",
       "    }\n",
       "\n",
       "    .dataframe thead th {\n",
       "        text-align: right;\n",
       "    }\n",
       "</style>\n",
       "<table border=\"1\" class=\"dataframe\">\n",
       "  <thead>\n",
       "    <tr style=\"text-align: right;\">\n",
       "      <th></th>\n",
       "      <th>UserID</th>\n",
       "      <th>MovieID</th>\n",
       "      <th>Rating</th>\n",
       "      <th>Timestamp</th>\n",
       "      <th>Gender</th>\n",
       "      <th>Age</th>\n",
       "      <th>JobID</th>\n",
       "      <th>Title</th>\n",
       "      <th>Genres</th>\n",
       "    </tr>\n",
       "  </thead>\n",
       "  <tbody>\n",
       "    <tr>\n",
       "      <th>0</th>\n",
       "      <td>1</td>\n",
       "      <td>1193</td>\n",
       "      <td>5</td>\n",
       "      <td>978300760</td>\n",
       "      <td>0</td>\n",
       "      <td>0</td>\n",
       "      <td>10</td>\n",
       "      <td>[3747, 3981, 640, 850, 3482, 2210, 2548, 2548,...</td>\n",
       "      <td>[1, 6, 6, 6, 6, 6, 6, 6, 6, 6, 6, 6, 6, 6, 6, ...</td>\n",
       "    </tr>\n",
       "    <tr>\n",
       "      <th>1</th>\n",
       "      <td>2</td>\n",
       "      <td>1193</td>\n",
       "      <td>5</td>\n",
       "      <td>978298413</td>\n",
       "      <td>1</td>\n",
       "      <td>5</td>\n",
       "      <td>16</td>\n",
       "      <td>[3747, 3981, 640, 850, 3482, 2210, 2548, 2548,...</td>\n",
       "      <td>[1, 6, 6, 6, 6, 6, 6, 6, 6, 6, 6, 6, 6, 6, 6, ...</td>\n",
       "    </tr>\n",
       "    <tr>\n",
       "      <th>2</th>\n",
       "      <td>12</td>\n",
       "      <td>1193</td>\n",
       "      <td>4</td>\n",
       "      <td>978220179</td>\n",
       "      <td>1</td>\n",
       "      <td>6</td>\n",
       "      <td>12</td>\n",
       "      <td>[3747, 3981, 640, 850, 3482, 2210, 2548, 2548,...</td>\n",
       "      <td>[1, 6, 6, 6, 6, 6, 6, 6, 6, 6, 6, 6, 6, 6, 6, ...</td>\n",
       "    </tr>\n",
       "    <tr>\n",
       "      <th>3</th>\n",
       "      <td>15</td>\n",
       "      <td>1193</td>\n",
       "      <td>4</td>\n",
       "      <td>978199279</td>\n",
       "      <td>1</td>\n",
       "      <td>6</td>\n",
       "      <td>7</td>\n",
       "      <td>[3747, 3981, 640, 850, 3482, 2210, 2548, 2548,...</td>\n",
       "      <td>[1, 6, 6, 6, 6, 6, 6, 6, 6, 6, 6, 6, 6, 6, 6, ...</td>\n",
       "    </tr>\n",
       "    <tr>\n",
       "      <th>4</th>\n",
       "      <td>17</td>\n",
       "      <td>1193</td>\n",
       "      <td>5</td>\n",
       "      <td>978158471</td>\n",
       "      <td>1</td>\n",
       "      <td>4</td>\n",
       "      <td>1</td>\n",
       "      <td>[3747, 3981, 640, 850, 3482, 2210, 2548, 2548,...</td>\n",
       "      <td>[1, 6, 6, 6, 6, 6, 6, 6, 6, 6, 6, 6, 6, 6, 6, ...</td>\n",
       "    </tr>\n",
       "  </tbody>\n",
       "</table>\n",
       "</div>"
      ],
      "text/plain": [
       "   UserID  MovieID  Rating  Timestamp  Gender  Age  JobID  \\\n",
       "0       1     1193       5  978300760       0    0     10   \n",
       "1       2     1193       5  978298413       1    5     16   \n",
       "2      12     1193       4  978220179       1    6     12   \n",
       "3      15     1193       4  978199279       1    6      7   \n",
       "4      17     1193       5  978158471       1    4      1   \n",
       "\n",
       "                                               Title  \\\n",
       "0  [3747, 3981, 640, 850, 3482, 2210, 2548, 2548,...   \n",
       "1  [3747, 3981, 640, 850, 3482, 2210, 2548, 2548,...   \n",
       "2  [3747, 3981, 640, 850, 3482, 2210, 2548, 2548,...   \n",
       "3  [3747, 3981, 640, 850, 3482, 2210, 2548, 2548,...   \n",
       "4  [3747, 3981, 640, 850, 3482, 2210, 2548, 2548,...   \n",
       "\n",
       "                                              Genres  \n",
       "0  [1, 6, 6, 6, 6, 6, 6, 6, 6, 6, 6, 6, 6, 6, 6, ...  \n",
       "1  [1, 6, 6, 6, 6, 6, 6, 6, 6, 6, 6, 6, 6, 6, 6, ...  \n",
       "2  [1, 6, 6, 6, 6, 6, 6, 6, 6, 6, 6, 6, 6, 6, 6, ...  \n",
       "3  [1, 6, 6, 6, 6, 6, 6, 6, 6, 6, 6, 6, 6, 6, 6, ...  \n",
       "4  [1, 6, 6, 6, 6, 6, 6, 6, 6, 6, 6, 6, 6, 6, 6, ...  "
      ]
     },
     "execution_count": 39,
     "metadata": {},
     "output_type": "execute_result"
    }
   ],
   "source": [
    "data.head()"
   ]
  },
  {
   "cell_type": "code",
   "execution_count": null,
   "metadata": {},
   "outputs": [],
   "source": []
  }
 ],
 "metadata": {
  "kernelspec": {
   "display_name": "Python 2",
   "language": "python",
   "name": "python2"
  },
  "language_info": {
   "codemirror_mode": {
    "name": "ipython",
    "version": 2
   },
   "file_extension": ".py",
   "mimetype": "text/x-python",
   "name": "python",
   "nbconvert_exporter": "python",
   "pygments_lexer": "ipython2",
   "version": "2.7.12"
  }
 },
 "nbformat": 4,
 "nbformat_minor": 2
}
